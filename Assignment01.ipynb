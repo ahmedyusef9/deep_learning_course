{
  "nbformat": 4,
  "nbformat_minor": 0,
  "metadata": {
    "colab": {
      "provenance": [],
      "toc_visible": true,
      "collapsed_sections": [
        "COzteKVCccsu",
        "KEaSwai7mSb9"
      ],
      "include_colab_link": true
    },
    "kernelspec": {
      "name": "python3",
      "display_name": "Python 3"
    },
    "language_info": {
      "name": "python"
    }
  },
  "cells": [
    {
      "cell_type": "markdown",
      "metadata": {
        "id": "view-in-github",
        "colab_type": "text"
      },
      "source": [
        "<a href=\"https://colab.research.google.com/github/ahmedyusef9/deep_learning_course/blob/Assignment01/Assignment01.ipynb\" target=\"_parent\"><img src=\"https://colab.research.google.com/assets/colab-badge.svg\" alt=\"Open In Colab\"/></a>"
      ]
    },
    {
      "cell_type": "markdown",
      "source": [
        "# Assignment 01\n",
        "# Image Classification"
      ],
      "metadata": {
        "id": "xfkIODT0cPxT"
      }
    },
    {
      "cell_type": "markdown",
      "source": [
        "**Student 1 ID and name,**\n",
        "\n",
        "**Student 2 ID and name**"
      ],
      "metadata": {
        "id": "ioc2Z913h0tj"
      }
    },
    {
      "cell_type": "markdown",
      "source": [
        "### Objective\n",
        "In this assignment, the goal is to implement a Convolutional Neural Network (CNN) for image classification on the EMNIST Letters dataset. The dataset consists of hand written letters in the English alphabet.\n",
        "\n",
        "\n",
        "### Instructions\n",
        "\n",
        "The assignment is arranged in sections, each section includes its instructions with coding tasks, and open ended questions. The provided code offers a starting point, in your tasks you should add code to sections that have the comment `#TODO` at the top. And **never delete** given code.\n",
        "\n",
        "### Submission Guidelines\n",
        "\n",
        "*   Assignments are done in pairs, include both ids in the filename when submitting (e.g. *HW01_123456789_123456789.ipynb*) and in the begining of file.\n",
        "*   Submit only one Jupyter notebook containing your code modifications, comments, and analysis.\n",
        "*   Include visualizations, graphs, or plots to support your analysis where needed.\n",
        "*   Provide a conclusion summarizing your findings, challenges faced, and potential future improvements.\n",
        "*   Notice the approximate runtime for some code sections.\n",
        "\n",
        "\n",
        "### Important Notes\n",
        "\n",
        "*  Ensure clarity in code comments and explanations for better understanding.\n",
        "*  Experiment, analyze, and document your observations throughout the assignment.\n",
        "*  Feel free to train on GPU (see example in practice 2-3 notebook).\n",
        "*  It is recommended to explore the datasest and understand it well before implementation.\n",
        "*  Feel free to seek clarification on any aspect of the assignment in the provided forum in moodle."
      ],
      "metadata": {
        "id": "o7ItwkwKcpWR"
      }
    },
    {
      "cell_type": "code",
      "execution_count": null,
      "metadata": {
        "id": "J2jCP6VRYnvE"
      },
      "outputs": [],
      "source": [
        "# arrange any/all imports here\n",
        "\n",
        "import torch\n",
        "import torchvision\n",
        "import torchvision.transforms as transforms\n",
        "from torch.utils.data import DataLoader\n",
        "\n",
        "import torch.nn as nn\n",
        "\n",
        "from tqdm import tqdm\n",
        "import math\n",
        "\n",
        "# viz and plots\n",
        "import matplotlib.pyplot as plt"
      ]
    },
    {
      "cell_type": "markdown",
      "source": [
        "## Section 1: Data Understanding and Preparation\n",
        "\n",
        "In this section we will load, explore and prepare the dataset for training.\n",
        "\n",
        "You are given a dataset of grayscale images, each 28x28 pixels, representing handwritten letters (A-Z). The dataset is called* EMNIST Letters* you can read more about it [here](https://www.kaggle.com/datasets/crawford/emnist). The dataset will be downloaded to local enviroment using the `tourchvision`. Your tasks in this section are:\n",
        "\n",
        "1. Describe how you would preprocess the data for a CNN explain your choice of transofrmation. Implement the preprocessing of your choice in the `transform` code section below.\n",
        "2. Create train loader for the trian and test sets. Explain your choice of `batch_size`."
      ],
      "metadata": {
        "id": "COzteKVCccsu"
      }
    },
    {
      "cell_type": "code",
      "source": [
        "#TODO Define transformations for the dataset\n",
        "\n",
        "transform = transforms.Compose([\n",
        "\n",
        "])"
      ],
      "metadata": {
        "id": "vP_OsDkyfElA"
      },
      "execution_count": null,
      "outputs": []
    },
    {
      "cell_type": "code",
      "source": [
        "# Load the EMNIST Letters dataset\n",
        "# loading the set takes approx 3 mins\n",
        "\n",
        "train_dataset = torchvision.datasets.EMNIST(\n",
        "  root='./data',\n",
        "  split='letters',\n",
        "  train=True,\n",
        "  download=True,\n",
        "  transform=transform\n",
        ")\n",
        "\n",
        "test_dataset = torchvision.datasets.EMNIST(\n",
        "  root='./data',\n",
        "  split='letters',\n",
        "  train=False,\n",
        "  download=True,\n",
        "  transform=transform\n",
        ")\n",
        "\n",
        "# Inspect the dataset\n",
        "print(f\"Number of training samples: {len(train_dataset)}\")\n",
        "print(f\"Number of testing samples: {len(test_dataset)}\")\n",
        "print(f\"Shape of one image: {train_dataset[0][0].shape} (C x H x W)\")"
      ],
      "metadata": {
        "id": "n35RkBUkfIYy"
      },
      "execution_count": null,
      "outputs": []
    },
    {
      "cell_type": "code",
      "source": [
        "#TODO Create data loaders for training and testing\n",
        "\n",
        "train_loader =\n",
        "test_loader ="
      ],
      "metadata": {
        "id": "ZydFCKXZfMYl"
      },
      "execution_count": null,
      "outputs": []
    },
    {
      "cell_type": "code",
      "source": [
        "# This code section displays the first 8 images in the batch.\n",
        "\n",
        "data_iter = iter(train_loader)\n",
        "images, labels = next(data_iter)\n",
        "\n",
        "fig, axes = plt.subplots(1, 8, figsize=(16, 2))\n",
        "for i in range(8):\n",
        "  axes[i].imshow(images[i].squeeze(0), cmap='gray')\n",
        "  axes[i].set_title(f\"Label: {labels[i].item()}\")\n",
        "  axes[i].axis('off')\n",
        "plt.show()"
      ],
      "metadata": {
        "id": "86n5GePufObd"
      },
      "execution_count": null,
      "outputs": []
    },
    {
      "cell_type": "markdown",
      "source": [
        "## Section 2: CNN Model Design\n",
        "\n",
        "Design a simple CNN to classify the dataset mentioned above. Your network should include at least two convolutional layers, one pooling layer, and a fully connected layer. The model architicture should be in the following order:\n",
        "\n",
        "*   Convolutional Layer 1: Implement a convolutional layer with 32 output channels, a 3x3 kernel size, a stride of 1, and a padding of 1.\n",
        "*   Batch Norm Layer.\n",
        "*   ReLU Activation Layer.\n",
        "*   MaxPooling Layer: Add a max-pooling layer with a 2x2 kernel size and a stride of 2.\n",
        "\n",
        "*   Convolutional Layer 2: Implement a convolutional layer with 64 output channels, a 3x3 kernel size, a stride of 1, and a padding of 1.\n",
        "*   Batch Norm Layer.\n",
        "*   ReLU Activation Layer.\n",
        "*   MaxPooling Layer: like above.\n",
        "\n",
        "*  Fully Connected Layer 1 (Input Size: Dynamically Inferred Based on Previous Layer Output): Include a fully connected (linear) layer with an input size that is dynamically inferred based on the output size of the previous convolutional layer. Output size 128.\n",
        "\n",
        "* RelU Activation Function.\n",
        "\n",
        "*  Fully Connected Layer 2: Add a final fully connected (linear) layer with 26 output features, representing the 26 alphabet letters.\n"
      ],
      "metadata": {
        "id": "KEaSwai7mSb9"
      }
    },
    {
      "cell_type": "code",
      "source": [
        "#TODO: Define the CNN architecture\n",
        "\n",
        "class EMNIST_CNN(nn.Module):\n",
        "  def __init__(self, num_classes=26):\n",
        "    super(EMNIST_CNN, self).__init__()\n",
        "\n",
        "  def forward( ):\n",
        "\n",
        "    return"
      ],
      "metadata": {
        "id": "EnKTVsAOm-A0"
      },
      "execution_count": null,
      "outputs": []
    },
    {
      "cell_type": "markdown",
      "source": [
        "## Section 3: Training and Optimization\n",
        "\n",
        "In this section we will setup all training parameters and train the model. your tasks in this section are:\n",
        "1. Create an instance of the model.\n",
        "2. Choose and explain your choice of optimizer and loss function.\n",
        "3. Fill the missing code in the training function.\n",
        "4. Train a model for 5 epochs on the training set (in colab CPU should take ~20 mins).\n",
        "\n",
        "\n",
        "**Note**: EMNIST labels start from 1 to 26, skipping 0. But our models' results are indexed from 0 to 25.\n"
      ],
      "metadata": {
        "id": "LaRj0tiI-875"
      }
    },
    {
      "cell_type": "code",
      "source": [
        "# optional\n",
        "# Check if a GPU is available, otherwise use the CPU\n",
        "\n",
        "device = torch.device('cuda' if torch.cuda.is_available() else 'cpu')\n",
        "device"
      ],
      "metadata": {
        "id": "N5LtTOYua7F1"
      },
      "execution_count": null,
      "outputs": []
    },
    {
      "cell_type": "code",
      "source": [
        "#TODO Create an instance of the model\n",
        "#TODO create an optimizer and loss function\n"
      ],
      "metadata": {
        "id": "087Qgsgu_NZ2"
      },
      "execution_count": null,
      "outputs": []
    },
    {
      "cell_type": "code",
      "source": [
        "#TODO fill the missing code in the training function\n",
        "\n",
        "# training function partially implemented for assignment\n",
        "def train_model(model, loader, optimizer, loss_fun, num_epochs=5):\n",
        "  model.train() #set model to train\n",
        "  for epoch in range(num_epochs):\n",
        "\n",
        "    #create variables to print loss and training accuracy per epoch\n",
        "    epoch_loss = 0\n",
        "    correct = 0\n",
        "    total = 0\n",
        "\n",
        "    for images, labels in tqdm(loader):\n",
        "      images, labels = images.to(device), (labels - 1).to(device)  # EMNIST labels are 1-based\n",
        "\n",
        "      outputs = model(images)\n",
        "\n",
        "      loss =\n",
        "\n",
        "      #epoch loss and accuracy for printing\n",
        "      epoch_loss += loss.item()\n",
        "      _, predicted = model(images).max(1)\n",
        "      total += labels.size(0)\n",
        "      correct += (predicted == labels).sum().item()\n",
        "\n",
        "  print(f\"Epoch [{epoch+1}/{num_epochs}], Loss: {epoch_loss/len(loader):.4f}, Accuracy: {100 * correct/total:.2f}%\")"
      ],
      "metadata": {
        "id": "efu9zYrwZrT0"
      },
      "execution_count": null,
      "outputs": []
    },
    {
      "cell_type": "code",
      "source": [
        "#TODO train the model.\n",
        "# training the model for 5 epochs on CPU in colab should take ~20 mins.\n"
      ],
      "metadata": {
        "collapsed": true,
        "id": "EfcPQz1HLMPM"
      },
      "execution_count": null,
      "outputs": []
    },
    {
      "cell_type": "markdown",
      "source": [
        "## Section 4: Evaluate the Model Preformance\n",
        "\n",
        "The following method evaluates a given model on the loaded test set. Use it to evaluate your trained model on the test set loader. And answer the open-ended questions written below."
      ],
      "metadata": {
        "id": "JC27IAIqMyph"
      }
    },
    {
      "cell_type": "code",
      "source": [
        "# Evaluation function\n",
        "def evaluate_model(model, loader):\n",
        "  model.eval()\n",
        "  correct = 0\n",
        "  total = 0\n",
        "\n",
        "  with torch.no_grad():\n",
        "    for images, labels in loader:\n",
        "      images, labels = images.to(device), (labels - 1).to(device)\n",
        "      outputs = model(images)\n",
        "      _, predicted = outputs.max(1)\n",
        "      total += labels.size(0)\n",
        "      correct += (predicted == labels).sum().item()\n",
        "\n",
        "  accuracy = 100 * correct / total\n",
        "  print(f\"Test Accuracy: {accuracy:.2f}%\")\n",
        "\n",
        "  return accuracy"
      ],
      "metadata": {
        "id": "oXrkaCoUpoib"
      },
      "execution_count": null,
      "outputs": []
    },
    {
      "cell_type": "code",
      "source": [
        "#TODO evaluate your model\n"
      ],
      "metadata": {
        "id": "xzb0nqoWNLjq"
      },
      "execution_count": null,
      "outputs": []
    },
    {
      "cell_type": "markdown",
      "source": [
        "Answer the following open ended questions.\n",
        "\n",
        "1. *If the CNN underperforms, what architectural modifications could improve its performance (e.g., depth, kernel size, activation functions)? Justify your choices.*\n",
        "\n",
        "2. *How do the choices of batch size, learning rate, and optimizer affect the training process and final performance of your CNN? Provide examples from your results.*"
      ],
      "metadata": {
        "id": "Fwp-y_lQOqXX"
      }
    },
    {
      "cell_type": "markdown",
      "source": [
        "## Section 5: FeedForward Network\n",
        "\n",
        "In this section you will suggest a feedforward architecture to solve the same problem above, classify the EMNIST images. tasks:\n",
        "\n",
        "\n",
        "1.   Suggest a feedforward model to solve the same problem the CNN above was trained on. Explain and implement your choice in `EMNIST_FeedForward` class\n",
        "2.   Train the model on the same dataset - you can reuse the `train_model` method defined above. Explain your choice of loss function and optimizer. (training a 3 layer model takes approx 5 mins on colab CPU)\n",
        "3.   Evaluate the feedforward model preformance on the test set, again, you can reuse the `evaluate_model` method.\n",
        "\n",
        "\n"
      ],
      "metadata": {
        "id": "z0bz4Ix6dKSk"
      }
    },
    {
      "cell_type": "code",
      "source": [
        "#TODO Feedforward Model"
      ],
      "metadata": {
        "id": "iiXHrCc5Zrni"
      },
      "execution_count": null,
      "outputs": []
    },
    {
      "cell_type": "markdown",
      "source": [
        "## Section 6 - Compare & Discuss\n",
        "\n",
        "In this section we will compare the two approaches."
      ],
      "metadata": {
        "id": "lBw3aD8NoCsk"
      }
    },
    {
      "cell_type": "markdown",
      "source": [
        "### 6.1 Comparing Architectures\n",
        "\n",
        "*After design a feedforward network and a CNN for the same dataset, explain how they differ in terms of:*\n",
        "\n",
        "*   *Number of parameters*\n",
        "*   *Ability to capture spatial relationships*\n",
        "*   *Success/failure in solving the classification task*\n",
        "\n"
      ],
      "metadata": {
        "id": "PUfx9XKgpGfk"
      }
    },
    {
      "cell_type": "markdown",
      "source": [
        "### 6.2 Visualize Filters & Feature Maps\n",
        "\n",
        "Run the following code sections in order to visualize the filters and feature maps of the first layer in your trained CNN. Answer the questions below afterwards.\n",
        "\n",
        "Notice, you must open the code and specify the name of your CNN model."
      ],
      "metadata": {
        "id": "099CECTMrofB"
      }
    },
    {
      "cell_type": "code",
      "source": [
        "#@title Visualizing Kernels from the First Convolutional Layer\n",
        "#@markdown Open code to edit model name.\n",
        "\n",
        "cnn_model = cnn_model #ADD YOU MODEL INSTANCE NAME HERE.\n",
        "\n",
        "# Access the first convolutional layer's filters\n",
        "filters = cnn_model.layer1[0].weight.data.cpu()  # Shape: (num_filters, input_channels, F, F)\n",
        "\n",
        "# Number of filters\n",
        "num_filters = filters.shape[0]\n",
        "\n",
        "# Calculate grid dimensions for visualization (rows x cols)\n",
        "grid_cols = 16  # You can adjust this value\n",
        "grid_rows = math.ceil(num_filters / grid_cols)\n",
        "\n",
        "# Create a grid of subplots\n",
        "fig, axes = plt.subplots(grid_rows, grid_cols, figsize=(15, grid_rows * 2))\n",
        "axes = axes.flatten()  # Flatten for easier indexing\n",
        "\n",
        "# Plot each filter\n",
        "for i, ax in enumerate(axes):\n",
        "    if i < num_filters:\n",
        "        # Select the first channel of each filter (assuming grayscale)\n",
        "        filter_ = filters[i, 0, :, :]\n",
        "\n",
        "        # Normalize filter values to [0, 1]\n",
        "        filter_ = (filter_ - filter_.min()) / (filter_.max() - filter_.min())\n",
        "\n",
        "        # Plot the filter\n",
        "        ax.imshow(filter_.numpy(), cmap='gray')\n",
        "        ax.axis('off')\n",
        "        ax.set_title(f'Filter {i+1}')\n",
        "    else:\n",
        "        # Turn off unused axes\n",
        "        ax.axis('off')\n",
        "\n",
        "plt.tight_layout()\n",
        "plt.show()\n"
      ],
      "metadata": {
        "cellView": "form",
        "id": "D_q_WkeUoa9q"
      },
      "execution_count": null,
      "outputs": []
    },
    {
      "cell_type": "code",
      "source": [
        "#@title Visualizing Feature Maps from the First Convolutional Layer\n",
        "#@markdown Change the image id and run the code cell to view different images.\n",
        "\n",
        "#@markdown Open code to edit model name.\n",
        "image_id = 25  #@param {type: \"slider\", min: 0, max: 63}\n",
        "cnn_model = cnn_model #ADD YOU MODEL INSTANCE NAME HERE.\n",
        "# image_id = 10  #@param {type: \"number\"}\n",
        "\n",
        "# Use a trained model\n",
        "cnn_model.eval()\n",
        "\n",
        "# Load one image from the dataset (assuming the data is normalized)\n",
        "image, _ = next(iter(test_loader))  # Assuming test_loader is defined\n",
        "image = image[image_id].unsqueeze(0).to(device)  # Select an image and add batch dimension\n",
        "\n",
        "# Pass the image through the first convolutional layer\n",
        "with torch.no_grad():\n",
        "    conv1_output = cnn_model.layer1[0](image)  # Assuming 'layer1[0]' is the first conv layer\n",
        "\n",
        "# Get the number of feature maps\n",
        "num_feature_maps = conv1_output.shape[1]\n",
        "\n",
        "# Calculate grid dimensions for visualization\n",
        "grid_cols = 16  # You can adjust this\n",
        "grid_rows = math.ceil(num_feature_maps / grid_cols)\n",
        "\n",
        "# Create a grid of subplots\n",
        "fig, axes = plt.subplots(grid_rows, grid_cols, figsize=(15, grid_rows * 2))\n",
        "axes = axes.flatten()\n",
        "\n",
        "# Plot each feature map\n",
        "for i, ax in enumerate(axes):\n",
        "    if i < num_feature_maps:\n",
        "        # Visualize the ith feature map\n",
        "        ax.imshow(conv1_output[0, i].cpu().numpy(), cmap='viridis')\n",
        "        ax.axis('off')\n",
        "        ax.set_title(f'Feature {i+1}')\n",
        "    else:\n",
        "        # Turn off unused axes\n",
        "        ax.axis('off')\n",
        "\n",
        "plt.tight_layout()\n",
        "plt.show()\n"
      ],
      "metadata": {
        "cellView": "form",
        "id": "oWLM4xWOwAE5"
      },
      "execution_count": null,
      "outputs": []
    },
    {
      "cell_type": "markdown",
      "source": [
        "**What Are Feature Maps?**\n",
        "\n",
        "  Each feature map corresponds to the activation of one filter in the convolutional layer.\n",
        "\n",
        "  Filters detect specific features from the input image.\n",
        "\n",
        "  The values in a feature map indicate how strongly a specific feature was detected at each spatial location in the input.\n",
        "\n",
        "\n",
        "**Understanding the Color Map**\n",
        "\n",
        "  The Viridis color map (default in Matplotlib) uses a gradient of colors:\n",
        "\n",
        "  *  Purple (low values): Indicates weak or no activation at a particular spatial location. The filter didn't find much of its target feature in this area.\n",
        "  *  Green (high values): Indicates strong activation. The filter detected its target feature strongly in this region of the input.\n",
        "\n",
        "Given the visualizations and explanation above, answer the following questions:\n",
        "\n",
        "\n",
        "\n",
        "---\n",
        "\n"
      ],
      "metadata": {
        "id": "cH3-oPXXy-A2"
      }
    },
    {
      "cell_type": "markdown",
      "source": [
        "*1. Are there any filters that have almost no activation across all features maps? Assume there are such filters, what might this indicate about the training process or the architecture?*\n",
        "\n",
        "\n"
      ],
      "metadata": {
        "id": "ZCEHSxcr03o3"
      }
    },
    {
      "cell_type": "markdown",
      "source": [
        "*2. Based on the activations in the feature maps, do you think the model is focusing on important parts of the input image? How could you modify the model if you suspect it's not focusing on the right features?*"
      ],
      "metadata": {
        "id": "fo9pbzsQ1Vt2"
      }
    }
  ]
}